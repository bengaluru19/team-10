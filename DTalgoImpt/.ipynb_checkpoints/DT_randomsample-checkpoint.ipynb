{
 "cells": [
  {
   "cell_type": "code",
   "execution_count": 1,
   "metadata": {},
   "outputs": [],
   "source": [
    "import numpy as np\n",
    "import pandas as pd\n",
    "from sklearn.metrics import confusion_matrix \n",
    "from sklearn.tree import DecisionTreeClassifier\n",
    "from sklearn.model_selection import train_test_split\n",
    "from sklearn.metrics import accuracy_score \n",
    "from sklearn.metrics import classification_report "
   ]
  },
  {
   "cell_type": "code",
   "execution_count": 2,
   "metadata": {},
   "outputs": [],
   "source": [
    "#datasets\n"
   ]
  },
  {
   "cell_type": "code",
   "execution_count": 3,
   "metadata": {},
   "outputs": [],
   "source": [
    "# Function importing Dataset  \n",
    "def importdata():\n",
    "    designcat = pd.read_csv('DesignCategories.csv')\n",
    "    budgetclass = pd.read_csv('BudgetCategories.csv')\n",
    "    designdata = pd.read_csv('DesignTable.csv')\n",
    "    designdata['Budget'] = designdata['Budget'].map({'High':2 , 'Medium':1, 'Low': 0})\n",
    "    designdata['SoilCondition'] = designdata['SoilCondition'].map({'Rocky': 4 , 'Wet':3, 'Soft': 2, 'Dry': 1})\n",
    "    designdata['ProjectLocation'] = designdata['ProjectLocation'].map({'Public':3, 'Private':2, 'Govt':1})\n",
    "    return designdata "
   ]
  },
  {
   "cell_type": "code",
   "execution_count": 4,
   "metadata": {
    "scrolled": true
   },
   "outputs": [],
   "source": [
    "def splitdataset(designdata): \n",
    "    x = designdata.values[:,0:10]\n",
    "    y = designdata.values[:,10:]\n",
    "    xtrain, xtest, ytrain, ytest = train_test_split( x, y, test_size = 0.1, random_state = 100)  \n",
    "    return x, y, xtrain, xtest, ytrain, ytest "
   ]
  },
  {
   "cell_type": "markdown",
   "metadata": {},
   "source": []
  },
  {
   "cell_type": "code",
   "execution_count": 5,
   "metadata": {},
   "outputs": [],
   "source": [
    "def train_using_gini(xtrain, xtest, ytrain): \n",
    "  \n",
    "    # Creating the classifier object \n",
    "    clf_gini = DecisionTreeClassifier(criterion = \"gini\",random_state = 100,max_depth=3, min_samples_leaf=5) \n",
    "  \n",
    "    # Performing training \n",
    "    clf_gini.fit(xtrain, ytrain) \n",
    "    return clf_gini "
   ]
  },
  {
   "cell_type": "code",
   "execution_count": 6,
   "metadata": {},
   "outputs": [],
   "source": [
    "def tarin_using_entropy(xtrain, xtest, ytrain):   \n",
    "    # Decision tree with entropy \n",
    "    clf_entropy = DecisionTreeClassifier(criterion = \"entropy\", random_state = 100, max_depth = 3, min_samples_leaf = 5) \n",
    "  \n",
    "    # Performing training \n",
    "    clf_entropy.fit(xtrain, ytrain) \n",
    "    return clf_entropy "
   ]
  },
  {
   "cell_type": "code",
   "execution_count": 7,
   "metadata": {},
   "outputs": [],
   "source": [
    "# Function to make predictions \n",
    "def prediction(xtest, clf_object): \n",
    "  \n",
    "    # Predicton on test with giniIndex \n",
    "    ypred = clf_object.predict(xtest) \n",
    "    print(\"Predicted values:\") \n",
    "    print(ypred) \n",
    "    return ypred"
   ]
  },
  {
   "cell_type": "code",
   "execution_count": 8,
   "metadata": {},
   "outputs": [],
   "source": [
    "# Function to calculate accuracy \n",
    "def cal_accuracy(ytest, ypred): \n",
    "      \n",
    "    print(\"Confusion Matrix: \", \n",
    "        confusion_matrix(ytest, ypred)) \n",
    "      \n",
    "    print (\"Accuracy : \", \n",
    "    accuracy_score(ytest,ypred)*100) \n",
    "      \n",
    "    print(\"Report : \", \n",
    "    classification_report(ytest, ypred)) "
   ]
  },
  {
   "cell_type": "code",
   "execution_count": 9,
   "metadata": {},
   "outputs": [
    {
     "name": "stdout",
     "output_type": "stream",
     "text": [
      "Results Using Gini Index:\n",
      "Predicted values:\n",
      "['B' 'B' 'B' 'B']\n",
      "Confusion Matrix:  [[0 0 0 0]\n",
      " [1 0 0 0]\n",
      " [1 0 0 0]\n",
      " [2 0 0 0]]\n",
      "Accuracy :  0.0\n",
      "Report :                precision    recall  f1-score   support\n",
      "\n",
      "           B       0.00      0.00      0.00         0\n",
      "           E       0.00      0.00      0.00         1\n",
      "           G       0.00      0.00      0.00         1\n",
      "           H       0.00      0.00      0.00         2\n",
      "\n",
      "   micro avg       0.00      0.00      0.00         4\n",
      "   macro avg       0.00      0.00      0.00         4\n",
      "weighted avg       0.00      0.00      0.00         4\n",
      "\n",
      "Results Using Entropy:\n",
      "Predicted values:\n",
      "['A' 'A' 'A' 'A']\n",
      "Confusion Matrix:  [[0 0 0 0]\n",
      " [1 0 0 0]\n",
      " [1 0 0 0]\n",
      " [2 0 0 0]]\n",
      "Accuracy :  0.0\n",
      "Report :                precision    recall  f1-score   support\n",
      "\n",
      "           A       0.00      0.00      0.00         0\n",
      "           E       0.00      0.00      0.00         1\n",
      "           G       0.00      0.00      0.00         1\n",
      "           H       0.00      0.00      0.00         2\n",
      "\n",
      "   micro avg       0.00      0.00      0.00         4\n",
      "   macro avg       0.00      0.00      0.00         4\n",
      "weighted avg       0.00      0.00      0.00         4\n",
      "\n"
     ]
    },
    {
     "name": "stderr",
     "output_type": "stream",
     "text": [
      "/home/anagha/anaconda3/lib/python3.7/site-packages/sklearn/metrics/classification.py:1143: UndefinedMetricWarning: Precision and F-score are ill-defined and being set to 0.0 in labels with no predicted samples.\n",
      "  'precision', 'predicted', average, warn_for)\n",
      "/home/anagha/anaconda3/lib/python3.7/site-packages/sklearn/metrics/classification.py:1145: UndefinedMetricWarning: Recall and F-score are ill-defined and being set to 0.0 in labels with no true samples.\n",
      "  'recall', 'true', average, warn_for)\n",
      "/home/anagha/anaconda3/lib/python3.7/site-packages/sklearn/metrics/classification.py:1143: UndefinedMetricWarning: Precision and F-score are ill-defined and being set to 0.0 in labels with no predicted samples.\n",
      "  'precision', 'predicted', average, warn_for)\n",
      "/home/anagha/anaconda3/lib/python3.7/site-packages/sklearn/metrics/classification.py:1145: UndefinedMetricWarning: Recall and F-score are ill-defined and being set to 0.0 in labels with no true samples.\n",
      "  'recall', 'true', average, warn_for)\n"
     ]
    }
   ],
   "source": [
    "# Driver code \n",
    "def main(): \n",
    "      \n",
    "    # Building Phase \n",
    "    data = importdata() \n",
    "    x, x, xtrain, xtest, ytrain, ytest = splitdataset(data) \n",
    "    clf_gini = train_using_gini(xtrain, xtest, ytrain) \n",
    "    clf_entropy = tarin_using_entropy(xtrain, xtest, ytrain) \n",
    "      \n",
    "    # Operational Phase \n",
    "    print(\"Results Using Gini Index:\") \n",
    "      \n",
    "    # Prediction using gini \n",
    "    y_pred_gini = prediction(xtest, clf_gini) \n",
    "    cal_accuracy(ytest, y_pred_gini) \n",
    "      \n",
    "    print(\"Results Using Entropy:\") \n",
    "    # Prediction using entropy \n",
    "    y_pred_entropy = prediction(xtest, clf_entropy) \n",
    "    cal_accuracy(ytest, y_pred_entropy) \n",
    "\n",
    "\n",
    "main()"
   ]
  },
  {
   "cell_type": "code",
   "execution_count": null,
   "metadata": {},
   "outputs": [],
   "source": []
  },
  {
   "cell_type": "code",
   "execution_count": null,
   "metadata": {},
   "outputs": [],
   "source": []
  }
 ],
 "metadata": {
  "kernelspec": {
   "display_name": "Python 3",
   "language": "python",
   "name": "python3"
  },
  "language_info": {
   "codemirror_mode": {
    "name": "ipython",
    "version": 3
   },
   "file_extension": ".py",
   "mimetype": "text/x-python",
   "name": "python",
   "nbconvert_exporter": "python",
   "pygments_lexer": "ipython3",
   "version": "3.7.3"
  }
 },
 "nbformat": 4,
 "nbformat_minor": 2
}
